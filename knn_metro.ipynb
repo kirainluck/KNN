{
 "cells": [
  {
   "cell_type": "markdown",
   "metadata": {},
   "source": [
    "# Метод ближайших соседей при классификации станций метро по количеству людей которые пьют чай или кофе"
   ]
  },
  {
   "cell_type": "markdown",
   "metadata": {},
   "source": [
    "## Подготовка данных"
   ]
  },
  {
   "cell_type": "code",
   "execution_count": 1,
   "metadata": {},
   "outputs": [],
   "source": [
    "import os\n",
    "\n",
    "# Текущий каталог где находятся файлы\n",
    "FILES_DIR = \"C:\\\\Projects\\\\knn\"\n",
    "\n",
    "# stations.txt содержит данные по станциям на линиях метро, а также соседние станции\n",
    "# Сначала заполняем матрицу смежности для вершин на линиях метро и соседних станций\n",
    "metro_stations = {}\n",
    "with open(os.path.join(FILES_DIR, \"stations.txt\"), \"r\", encoding = \"utf8\") as st:\n",
    "    m_lines = []\n",
    "    # Заполняем станции по линиям метро\n",
    "    for line in st:\n",
    "        if \"***ПЕРЕХОДЫ***\" in line:\n",
    "            break\n",
    "        if (\"***\" in line):\n",
    "            if m_lines:\n",
    "                # конец линии\n",
    "                for i in range(len(m_lines)):\n",
    "                    if m_lines[i] not in metro_stations.keys():\n",
    "                        metro_stations[m_lines[i]] = {}\n",
    "                    for j in range(len(m_lines)):\n",
    "                        metro_stations[m_lines[i]][m_lines[j]] = abs(i-j)\n",
    "                m_lines=[]\n",
    "        else:\n",
    "            m_lines.append(line.split(\"(\")[0].strip().lower())\n",
    "    \n",
    "    # Заполняем смежные станции\n",
    "    for line in st:\n",
    "        line = line.split(\"(\")[0].strip().lower().replace(\"+\", \"/\")\n",
    "        if \"/\" in line:\n",
    "            m_lines = line.split(\"/\")\n",
    "            for i in range(len(m_lines)):\n",
    "                    if m_lines[i] not in metro_stations.keys():\n",
    "                        metro_stations[m_lines[i]] = {}\n",
    "                    for j in range(len(m_lines)):\n",
    "                        metro_stations[m_lines[i]][m_lines[j]] = 0\n",
    "    # Результат в metro_stations"
   ]
  },
  {
   "cell_type": "code",
   "execution_count": 2,
   "metadata": {},
   "outputs": [],
   "source": [
    "import sys\n",
    "sys.path.append(FILES_DIR)\n",
    "from classes_data import cl_data\n",
    "from metro_matrix_full import METRO"
   ]
  },
  {
   "cell_type": "markdown",
   "metadata": {},
   "source": [
    "## Алгоритмы классификации KNN"
   ]
  },
  {
   "cell_type": "code",
   "execution_count": 3,
   "metadata": {},
   "outputs": [],
   "source": [
    "def get_neighbors(k, metro):\n",
    "    # Код получения соседних станций (включая саму станцию) по k и названию метро из словаря METRO\n",
    "    neighbours = {}\n",
    "    for i in METRO[metro]:\n",
    "    \n",
    "        if METRO[metro][i] <= k:\n",
    "            neighbours.update(  {   i : METRO[metro][i]   }   )\n",
    "\n",
    "    return neighbours"
   ]
  },
  {
   "cell_type": "code",
   "execution_count": 4,
   "metadata": {},
   "outputs": [],
   "source": [
    "def knn(neighbors):\n",
    "    # В neighbors содержится словарь с данными по соседним станциям и самой станции\n",
    "    # Подсчетываем количества людей для классов \"чай\" и \"кофе\"\n",
    "    # Нужно проверить особый случай когда кол-во людей для \"чай\" и \"кофе\" одинаковое\n",
    "    # тогда используем взвешенное голосование (для каждого класса [\"чай\" и \"кофе\"] подсчитываем сумму по всем \n",
    "    # станциям 1/квадрат расстояния)\n",
    "    votes_tea = 0\n",
    "    votes_coffee = 0\n",
    "    \n",
    "    for i in neighbors:\n",
    "        if i not in cl_data.keys():\n",
    "            votes_tea, votes_cofee = 0, 0\n",
    "        else:\n",
    "            votes_tea += ((1000 - neighbors[i]) / 1000) * cl_data[i]['чай']\n",
    "            votes_coffee += ((1000 - neighbors[i]) / 1000) * cl_data[i]['кофе']\n",
    "\n",
    "    if votes_tea > votes_coffee:\n",
    "        return(\"чай\", votes_tea, votes_coffee)\n",
    "    elif votes_tea < votes_coffee:\n",
    "        return(\"кофе\", votes_tea, votes_coffee)\n",
    "\n",
    "    return (\"\", votes_tea, votes_coffee)"
   ]
  },
  {
   "cell_type": "markdown",
   "metadata": {},
   "source": [
    "## Ввод данных и выполнение классификации"
   ]
  },
  {
   "cell_type": "code",
   "execution_count": null,
   "metadata": {},
   "outputs": [
    {
     "name": "stdout",
     "output_type": "stream",
     "text": [
      "Для выхода нажмите <ENTER>\n",
      "Введите k:\n",
      "1\n",
      "Введите название метро:\n",
      "Чертановская\n",
      "По станции метро чертановская отсутствуют данные\n",
      "Введите k:\n",
      "комсомольская\n",
      "Введите название метро:\n",
      "в\n",
      "Число k указано неправильно\n",
      "Введите k:\n",
      "1\n",
      "Введите название метро:\n",
      "комсомольская\n",
      "На станции метро комсомольская с k=1 пьют кофе\n",
      "Введите k:\n"
     ]
    }
   ],
   "source": [
    "k = 0\n",
    "metro = ''\n",
    "print(\"Для выхода нажмите <ENTER>\")\n",
    "while True:\n",
    "    print(\"Введите k:\")\n",
    "    k = input()\n",
    "    if k == '':\n",
    "        break\n",
    "    print(\"Введите название метро:\")\n",
    "    metro = input().strip().lower()\n",
    "    if metro == '':\n",
    "        break\n",
    "    try:\n",
    "        result = knn(get_neighbors(int(k), metro))\n",
    "    except KeyError:\n",
    "        print(\"Неправильно указана станция метро\")\n",
    "        continue\n",
    "    except ValueError:\n",
    "        print(\"Число k указано неправильно\")\n",
    "        continue\n",
    "        \n",
    "    if not result[0]:\n",
    "        if result[1] == result[2] == 0:\n",
    "            print(\"По станции метро {0} отсутствуют данные\".format(metro))\n",
    "        else:\n",
    "            print(\"На станции метро {0} c k={1} чай и кофе пьют поровну\".format(metro, k))\n",
    "    if result[0] == \"чай\":\n",
    "        print(\"На станции метро {0} с k={1} пьют чай\".format(metro, k))\n",
    "    if result[0] == \"кофе\":\n",
    "        print(\"На станции метро {0} с k={1} пьют кофе\".format(metro, k))"
   ]
  },
  {
   "cell_type": "code",
   "execution_count": null,
   "metadata": {},
   "outputs": [],
   "source": []
  },
  {
   "cell_type": "code",
   "execution_count": null,
   "metadata": {},
   "outputs": [],
   "source": []
  }
 ],
 "metadata": {
  "kernelspec": {
   "display_name": "Python 3",
   "language": "python",
   "name": "python3"
  },
  "language_info": {
   "codemirror_mode": {
    "name": "ipython",
    "version": 3
   },
   "file_extension": ".py",
   "mimetype": "text/x-python",
   "name": "python",
   "nbconvert_exporter": "python",
   "pygments_lexer": "ipython3",
   "version": "3.7.3"
  }
 },
 "nbformat": 4,
 "nbformat_minor": 1
}
